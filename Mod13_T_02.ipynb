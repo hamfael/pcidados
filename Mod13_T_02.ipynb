{
 "cells": [
  {
   "cell_type": "markdown",
   "metadata": {},
   "source": [
    "# EBAC - Regressão II - regressão múltipla\n",
    "\n",
    "## Tarefa I"
   ]
  },
  {
   "cell_type": "markdown",
   "metadata": {},
   "source": [
    "#### Previsão de renda II\n",
    "\n",
    "Vamos continuar trabalhando com a base 'previsao_de_renda.csv', que é a base do seu próximo projeto. Vamos usar os recursos que vimos até aqui nesta base.\n",
    "\n",
    "|variavel|descrição|\n",
    "|-|-|\n",
    "|data_ref                | Data de referência de coleta das variáveis |\n",
    "|index                   | Código de identificação do cliente|\n",
    "|sexo                    | Sexo do cliente|\n",
    "|posse_de_veiculo        | Indica se o cliente possui veículo|\n",
    "|posse_de_imovel         | Indica se o cliente possui imóvel|\n",
    "|qtd_filhos              | Quantidade de filhos do cliente|\n",
    "|tipo_renda              | Tipo de renda do cliente|\n",
    "|educacao                | Grau de instrução do cliente|\n",
    "|estado_civil            | Estado civil do cliente|\n",
    "|tipo_residencia         | Tipo de residência do cliente (própria, alugada etc)|\n",
    "|idade                   | Idade do cliente|\n",
    "|tempo_emprego           | Tempo no emprego atual|\n",
    "|qt_pessoas_residencia   | Quantidade de pessoas que moram na residência|\n",
    "|renda                   | Renda em reais|"
   ]
  },
  {
   "cell_type": "code",
   "execution_count": 1,
   "metadata": {},
   "outputs": [],
   "source": [
    "import pandas as pd\n",
    "import numpy as np\n",
    "\n",
    "import statsmodels.formula.api as smf\n",
    "import statsmodels.api as sm\n",
    "import patsy\n",
    "\n",
    "from sklearn.model_selection import train_test_split\n",
    "from sklearn.linear_model import RidgeCV\n",
    "from sklearn.linear_model import LassoCV\n",
    "from sklearn.metrics import r2_score"
   ]
  },
  {
   "cell_type": "code",
   "execution_count": 2,
   "metadata": {},
   "outputs": [],
   "source": [
    "df = pd.read_csv('previsao_de_renda.csv')"
   ]
  },
  {
   "cell_type": "code",
   "execution_count": 3,
   "metadata": {},
   "outputs": [
    {
     "name": "stdout",
     "output_type": "stream",
     "text": [
      "<class 'pandas.core.frame.DataFrame'>\n",
      "RangeIndex: 15000 entries, 0 to 14999\n",
      "Data columns (total 15 columns):\n",
      " #   Column                 Non-Null Count  Dtype  \n",
      "---  ------                 --------------  -----  \n",
      " 0   Unnamed: 0             15000 non-null  int64  \n",
      " 1   data_ref               15000 non-null  object \n",
      " 2   id_cliente             15000 non-null  int64  \n",
      " 3   sexo                   15000 non-null  object \n",
      " 4   posse_de_veiculo       15000 non-null  bool   \n",
      " 5   posse_de_imovel        15000 non-null  bool   \n",
      " 6   qtd_filhos             15000 non-null  int64  \n",
      " 7   tipo_renda             15000 non-null  object \n",
      " 8   educacao               15000 non-null  object \n",
      " 9   estado_civil           15000 non-null  object \n",
      " 10  tipo_residencia        15000 non-null  object \n",
      " 11  idade                  15000 non-null  int64  \n",
      " 12  tempo_emprego          12427 non-null  float64\n",
      " 13  qt_pessoas_residencia  15000 non-null  float64\n",
      " 14  renda                  15000 non-null  float64\n",
      "dtypes: bool(2), float64(3), int64(4), object(6)\n",
      "memory usage: 1.5+ MB\n"
     ]
    }
   ],
   "source": [
    "df.info()"
   ]
  },
  {
   "cell_type": "markdown",
   "metadata": {},
   "source": [
    "1. Separe a base em treinamento e teste (25% para teste, 75% para treinamento).\n",
    "2. Rode uma regularização *ridge* com alpha = [0, 0.001, 0.005, 0.01, 0.05, 0.1] e avalie o $R^2$ na base de testes. Qual o melhor modelo?\n",
    "3. Faça o mesmo que no passo 2, com uma regressão *LASSO*. Qual método chega a um melhor resultado?\n",
    "4. Rode um modelo *stepwise*. Avalie o $R^2$ na vase de testes. Qual o melhor resultado?\n",
    "5. Compare os parâmetros e avalie eventuais diferenças. Qual modelo você acha o melhor de todos?\n",
    "6. Partindo dos modelos que você ajustou, tente melhorar o $R^2$ na base de testes. Use a criatividade, veja se consegue inserir alguma transformação ou combinação de variáveis.\n",
    "7. Ajuste uma árvore de regressão e veja se consegue um $R^2$ melhor com ela."
   ]
  },
  {
   "cell_type": "code",
   "execution_count": 4,
   "metadata": {},
   "outputs": [
    {
     "data": {
      "text/html": [
       "<div>\n",
       "<style scoped>\n",
       "    .dataframe tbody tr th:only-of-type {\n",
       "        vertical-align: middle;\n",
       "    }\n",
       "\n",
       "    .dataframe tbody tr th {\n",
       "        vertical-align: top;\n",
       "    }\n",
       "\n",
       "    .dataframe thead th {\n",
       "        text-align: right;\n",
       "    }\n",
       "</style>\n",
       "<table border=\"1\" class=\"dataframe\">\n",
       "  <thead>\n",
       "    <tr style=\"text-align: right;\">\n",
       "      <th></th>\n",
       "      <th>sexo</th>\n",
       "      <th>posse_de_veiculo</th>\n",
       "      <th>posse_de_imovel</th>\n",
       "      <th>qtd_filhos</th>\n",
       "      <th>tipo_renda</th>\n",
       "      <th>educacao</th>\n",
       "      <th>estado_civil</th>\n",
       "      <th>tipo_residencia</th>\n",
       "      <th>idade</th>\n",
       "      <th>tempo_emprego</th>\n",
       "      <th>qt_pessoas_residencia</th>\n",
       "      <th>renda</th>\n",
       "    </tr>\n",
       "  </thead>\n",
       "  <tbody>\n",
       "    <tr>\n",
       "      <th>0</th>\n",
       "      <td>F</td>\n",
       "      <td>False</td>\n",
       "      <td>True</td>\n",
       "      <td>0</td>\n",
       "      <td>Empresário</td>\n",
       "      <td>Secundário</td>\n",
       "      <td>Solteiro</td>\n",
       "      <td>Casa</td>\n",
       "      <td>26</td>\n",
       "      <td>6.602740</td>\n",
       "      <td>1.0</td>\n",
       "      <td>8060.34</td>\n",
       "    </tr>\n",
       "    <tr>\n",
       "      <th>1</th>\n",
       "      <td>M</td>\n",
       "      <td>True</td>\n",
       "      <td>True</td>\n",
       "      <td>0</td>\n",
       "      <td>Assalariado</td>\n",
       "      <td>Superior completo</td>\n",
       "      <td>Casado</td>\n",
       "      <td>Casa</td>\n",
       "      <td>28</td>\n",
       "      <td>7.183562</td>\n",
       "      <td>2.0</td>\n",
       "      <td>1852.15</td>\n",
       "    </tr>\n",
       "    <tr>\n",
       "      <th>2</th>\n",
       "      <td>F</td>\n",
       "      <td>True</td>\n",
       "      <td>True</td>\n",
       "      <td>0</td>\n",
       "      <td>Empresário</td>\n",
       "      <td>Superior completo</td>\n",
       "      <td>Casado</td>\n",
       "      <td>Casa</td>\n",
       "      <td>35</td>\n",
       "      <td>0.838356</td>\n",
       "      <td>2.0</td>\n",
       "      <td>2253.89</td>\n",
       "    </tr>\n",
       "    <tr>\n",
       "      <th>3</th>\n",
       "      <td>F</td>\n",
       "      <td>False</td>\n",
       "      <td>True</td>\n",
       "      <td>1</td>\n",
       "      <td>Servidor público</td>\n",
       "      <td>Superior completo</td>\n",
       "      <td>Casado</td>\n",
       "      <td>Casa</td>\n",
       "      <td>30</td>\n",
       "      <td>4.846575</td>\n",
       "      <td>3.0</td>\n",
       "      <td>6600.77</td>\n",
       "    </tr>\n",
       "    <tr>\n",
       "      <th>4</th>\n",
       "      <td>M</td>\n",
       "      <td>True</td>\n",
       "      <td>False</td>\n",
       "      <td>0</td>\n",
       "      <td>Assalariado</td>\n",
       "      <td>Secundário</td>\n",
       "      <td>Solteiro</td>\n",
       "      <td>Governamental</td>\n",
       "      <td>33</td>\n",
       "      <td>4.293151</td>\n",
       "      <td>1.0</td>\n",
       "      <td>6475.97</td>\n",
       "    </tr>\n",
       "  </tbody>\n",
       "</table>\n",
       "</div>"
      ],
      "text/plain": [
       "  sexo  posse_de_veiculo  posse_de_imovel  qtd_filhos        tipo_renda  \\\n",
       "0    F             False             True           0        Empresário   \n",
       "1    M              True             True           0       Assalariado   \n",
       "2    F              True             True           0        Empresário   \n",
       "3    F             False             True           1  Servidor público   \n",
       "4    M              True            False           0       Assalariado   \n",
       "\n",
       "            educacao estado_civil tipo_residencia  idade  tempo_emprego  \\\n",
       "0         Secundário     Solteiro            Casa     26       6.602740   \n",
       "1  Superior completo       Casado            Casa     28       7.183562   \n",
       "2  Superior completo       Casado            Casa     35       0.838356   \n",
       "3  Superior completo       Casado            Casa     30       4.846575   \n",
       "4         Secundário     Solteiro   Governamental     33       4.293151   \n",
       "\n",
       "   qt_pessoas_residencia    renda  \n",
       "0                    1.0  8060.34  \n",
       "1                    2.0  1852.15  \n",
       "2                    2.0  2253.89  \n",
       "3                    3.0  6600.77  \n",
       "4                    1.0  6475.97  "
      ]
     },
     "execution_count": 4,
     "metadata": {},
     "output_type": "execute_result"
    }
   ],
   "source": [
    "df.drop(['Unnamed: 0', 'data_ref', 'id_cliente'], axis=1, inplace=True)\n",
    "df.head()"
   ]
  },
  {
   "cell_type": "code",
   "execution_count": 5,
   "metadata": {},
   "outputs": [],
   "source": [
    "df = pd.get_dummies(df)"
   ]
  },
  {
   "cell_type": "code",
   "execution_count": 6,
   "metadata": {},
   "outputs": [
    {
     "data": {
      "text/plain": [
       "posse_de_veiculo                    0\n",
       "posse_de_imovel                     0\n",
       "qtd_filhos                          0\n",
       "idade                               0\n",
       "tempo_emprego                    2573\n",
       "qt_pessoas_residencia               0\n",
       "renda                               0\n",
       "sexo_F                              0\n",
       "sexo_M                              0\n",
       "tipo_renda_Assalariado              0\n",
       "tipo_renda_Bolsista                 0\n",
       "tipo_renda_Empresário               0\n",
       "tipo_renda_Pensionista              0\n",
       "tipo_renda_Servidor público         0\n",
       "educacao_Primário                   0\n",
       "educacao_Pós graduação              0\n",
       "educacao_Secundário                 0\n",
       "educacao_Superior completo          0\n",
       "educacao_Superior incompleto        0\n",
       "estado_civil_Casado                 0\n",
       "estado_civil_Separado               0\n",
       "estado_civil_Solteiro               0\n",
       "estado_civil_União                  0\n",
       "estado_civil_Viúvo                  0\n",
       "tipo_residencia_Aluguel             0\n",
       "tipo_residencia_Casa                0\n",
       "tipo_residencia_Com os pais         0\n",
       "tipo_residencia_Comunitário         0\n",
       "tipo_residencia_Estúdio             0\n",
       "tipo_residencia_Governamental       0\n",
       "dtype: int64"
      ]
     },
     "execution_count": 6,
     "metadata": {},
     "output_type": "execute_result"
    }
   ],
   "source": [
    "df.isna().sum()"
   ]
  },
  {
   "cell_type": "code",
   "execution_count": 7,
   "metadata": {},
   "outputs": [
    {
     "data": {
      "text/plain": [
       "posse_de_veiculo                 0\n",
       "posse_de_imovel                  0\n",
       "qtd_filhos                       0\n",
       "idade                            0\n",
       "tempo_emprego                    0\n",
       "qt_pessoas_residencia            0\n",
       "renda                            0\n",
       "sexo_F                           0\n",
       "sexo_M                           0\n",
       "tipo_renda_Assalariado           0\n",
       "tipo_renda_Bolsista              0\n",
       "tipo_renda_Empresário            0\n",
       "tipo_renda_Pensionista           0\n",
       "tipo_renda_Servidor público      0\n",
       "educacao_Primário                0\n",
       "educacao_Pós graduação           0\n",
       "educacao_Secundário              0\n",
       "educacao_Superior completo       0\n",
       "educacao_Superior incompleto     0\n",
       "estado_civil_Casado              0\n",
       "estado_civil_Separado            0\n",
       "estado_civil_Solteiro            0\n",
       "estado_civil_União               0\n",
       "estado_civil_Viúvo               0\n",
       "tipo_residencia_Aluguel          0\n",
       "tipo_residencia_Casa             0\n",
       "tipo_residencia_Com os pais      0\n",
       "tipo_residencia_Comunitário      0\n",
       "tipo_residencia_Estúdio          0\n",
       "tipo_residencia_Governamental    0\n",
       "dtype: int64"
      ]
     },
     "execution_count": 7,
     "metadata": {},
     "output_type": "execute_result"
    }
   ],
   "source": [
    "df = df.dropna()\n",
    "df.isna().sum()"
   ]
  },
  {
   "cell_type": "code",
   "execution_count": 8,
   "metadata": {},
   "outputs": [],
   "source": [
    "X = df.drop(columns=['renda'])\n",
    "y = df['renda']"
   ]
  },
  {
   "cell_type": "code",
   "execution_count": 9,
   "metadata": {},
   "outputs": [],
   "source": [
    "X_train, X_test, y_train, y_test = train_test_split(X, y)"
   ]
  },
  {
   "cell_type": "code",
   "execution_count": 10,
   "metadata": {},
   "outputs": [
    {
     "name": "stdout",
     "output_type": "stream",
     "text": [
      "melhor alpha= 0.1\n",
      "R2= 0.23773617377744038\n"
     ]
    }
   ],
   "source": [
    "#######2\n",
    "# o codigo a seguir foi desenvolvido a partir de pesquisas, pois nao foi mostrado como fazer a regularizacao ridge.\n",
    "\n",
    "# alpha a serem testados\n",
    "alpha_v = [0.00000001, 0.001, 0.005, 0.01, 0.05, 0.1]\n",
    "\n",
    "# regressao ridge com cross-validation, para depois escolhermos o melhor valor de alpha\n",
    "ridge_cv = RidgeCV(alphas=alpha_v, store_cv_values=True)\n",
    "ridge_cv.fit(X_train, y_train)\n",
    "\n",
    "# melhor alpha\n",
    "b_alpha = ridge_cv.alpha_\n",
    "print('melhor alpha=', b_alpha)\n",
    "\n",
    "y_pred = ridge_cv.predict(X_test)\n",
    "R2 = r2_score(y_test, y_pred)\n",
    "print('R2=', R2)\n"
   ]
  },
  {
   "cell_type": "code",
   "execution_count": 11,
   "metadata": {},
   "outputs": [
    {
     "name": "stdout",
     "output_type": "stream",
     "text": [
      "melhor alpha= 0.1\n",
      "R2= 0.23775105166280142\n"
     ]
    }
   ],
   "source": [
    "#######3\n",
    "from warnings import filterwarnings\n",
    "filterwarnings('ignore')\n",
    "\n",
    "# regressao Lasso com cross-validation\n",
    "lasso_cv = LassoCV(alphas=alpha_v, cv=5)\n",
    "lasso_cv.fit(X_train, y_train)\n",
    "\n",
    "b_alpha = ridge_cv.alpha_\n",
    "print('melhor alpha=', b_alpha)\n",
    "\n",
    "y_pred = lasso_cv.predict(X_test)\n",
    "R2 = r2_score(y_test, y_pred)\n",
    "print('R2=', R2)"
   ]
  },
  {
   "cell_type": "code",
   "execution_count": 12,
   "metadata": {},
   "outputs": [],
   "source": [
    "# a regressao lasso ficou com R2 sensivelmente melhor"
   ]
  },
  {
   "cell_type": "code",
   "execution_count": 13,
   "metadata": {},
   "outputs": [],
   "source": [
    "#######4\n",
    "def stepwise_selection(X, y, \n",
    "                       initial_list=[], \n",
    "                       threshold_in=0.05, \n",
    "                       threshold_out = 0.05, \n",
    "                       verbose=True):\n",
    "    \"\"\" Perform a forward-backward feature selection \n",
    "    based on p-value from statsmodels.api.OLS\n",
    "    Arguments:\n",
    "        X - pandas.DataFrame with candidate features\n",
    "        y - list-like with the target\n",
    "        initial_list - list of features to start with (column names of X)\n",
    "        threshold_in - include a feature if its p-value < threshold_in\n",
    "        threshold_out - exclude a feature if its p-value > threshold_out\n",
    "        verbose - whether to print the sequence of inclusions and exclusions\n",
    "    Returns: list of selected features \n",
    "    Always set threshold_in < threshold_out to avoid infinite looping.\n",
    "    See https://en.wikipedia.org/wiki/Stepwise_regression for the details\n",
    "    \"\"\"\n",
    "    included = list(initial_list)\n",
    "    while True:\n",
    "        changed=False\n",
    "        # forward step\n",
    "        excluded = list(set(X.columns)-set(included))\n",
    "        new_pval = pd.Series(index=excluded, dtype=np.dtype('float64'))\n",
    "        for new_column in excluded:\n",
    "            model = sm.OLS(y, sm.add_constant(pd.DataFrame(X[included+[new_column]]))).fit()\n",
    "            new_pval[new_column] = model.pvalues[new_column]\n",
    "        best_pval = new_pval.min()\n",
    "        if best_pval < threshold_in:\n",
    "            best_feature = new_pval.index[new_pval.argmin()]\n",
    "            included.append(best_feature)\n",
    "            changed=True\n",
    "            if verbose:\n",
    "                 print('Add  {:30} with p-value {:.6}'.format(best_feature, best_pval))\n",
    "\n",
    "        # backward step\n",
    "        print(\"#############\")\n",
    "        print(included)\n",
    "        model = sm.OLS(y, sm.add_constant(pd.DataFrame(X[included]))).fit()\n",
    "        # use all coefs except intercept\n",
    "        pvalues = model.pvalues.iloc[1:]\n",
    "        worst_pval = pvalues.max() # null if pvalues is empty\n",
    "        if worst_pval > threshold_out:\n",
    "            changed=True\n",
    "            worst_feature = pvalues.argmax()\n",
    "            included.remove(worst_feature)\n",
    "            if verbose:\n",
    "                print('Drop {:30} with p-value {:.6}'.format(worst_feature, worst_pval))\n",
    "        if not changed:\n",
    "            break\n",
    "    return included"
   ]
  },
  {
   "cell_type": "code",
   "execution_count": 14,
   "metadata": {},
   "outputs": [],
   "source": [
    "# a funcao stepwise nao suporta valores True e False\n",
    "cols_conversao = ['posse_de_veiculo', 'posse_de_imovel', 'sexo_F', 'sexo_M',\n",
    "       'tipo_renda_Assalariado', 'tipo_renda_Bolsista',\n",
    "       'tipo_renda_Empresário', 'tipo_renda_Pensionista',\n",
    "       'tipo_renda_Servidor público', 'educacao_Primário',\n",
    "       'educacao_Pós graduação', 'educacao_Secundário',\n",
    "       'educacao_Superior completo', 'educacao_Superior incompleto',\n",
    "       'estado_civil_Casado', 'estado_civil_Separado', 'estado_civil_Solteiro',\n",
    "       'estado_civil_União', 'estado_civil_Viúvo', 'tipo_residencia_Aluguel',\n",
    "       'tipo_residencia_Casa', 'tipo_residencia_Com os pais',\n",
    "       'tipo_residencia_Comunitário', 'tipo_residencia_Estúdio',\n",
    "       'tipo_residencia_Governamental']\n",
    "\n",
    "X_train = X_train[cols_conversao].astype(int)\n",
    "X_test = X_test[cols_conversao].astype(int)"
   ]
  },
  {
   "cell_type": "code",
   "execution_count": 15,
   "metadata": {},
   "outputs": [
    {
     "name": "stdout",
     "output_type": "stream",
     "text": [
      "Add  sexo_F                         with p-value 5.95081e-158\n",
      "#############\n",
      "['sexo_F']\n",
      "Add  tipo_renda_Servidor público    with p-value 4.50981e-07\n",
      "#############\n",
      "['sexo_F', 'tipo_renda_Servidor público']\n",
      "Add  sexo_M                         with p-value 0.0\n",
      "#############\n",
      "['sexo_F', 'tipo_renda_Servidor público', 'sexo_M']\n",
      "Add  tipo_residencia_Com os pais    with p-value 6.22516e-06\n",
      "#############\n",
      "['sexo_F', 'tipo_renda_Servidor público', 'sexo_M', 'tipo_residencia_Com os pais']\n",
      "Add  educacao_Superior incompleto   with p-value 0.000299446\n",
      "#############\n",
      "['sexo_F', 'tipo_renda_Servidor público', 'sexo_M', 'tipo_residencia_Com os pais', 'educacao_Superior incompleto']\n",
      "Add  estado_civil_Casado            with p-value 0.0200642\n",
      "#############\n",
      "['sexo_F', 'tipo_renda_Servidor público', 'sexo_M', 'tipo_residencia_Com os pais', 'educacao_Superior incompleto', 'estado_civil_Casado']\n",
      "Add  posse_de_imovel                with p-value 0.0242603\n",
      "#############\n",
      "['sexo_F', 'tipo_renda_Servidor público', 'sexo_M', 'tipo_residencia_Com os pais', 'educacao_Superior incompleto', 'estado_civil_Casado', 'posse_de_imovel']\n",
      "Add  estado_civil_Separado          with p-value 0.0261692\n",
      "#############\n",
      "['sexo_F', 'tipo_renda_Servidor público', 'sexo_M', 'tipo_residencia_Com os pais', 'educacao_Superior incompleto', 'estado_civil_Casado', 'posse_de_imovel', 'estado_civil_Separado']\n",
      "Add  educacao_Superior completo     with p-value 0.0381787\n",
      "#############\n",
      "['sexo_F', 'tipo_renda_Servidor público', 'sexo_M', 'tipo_residencia_Com os pais', 'educacao_Superior incompleto', 'estado_civil_Casado', 'posse_de_imovel', 'estado_civil_Separado', 'educacao_Superior completo']\n",
      "#############\n",
      "['sexo_F', 'tipo_renda_Servidor público', 'sexo_M', 'tipo_residencia_Com os pais', 'educacao_Superior incompleto', 'estado_civil_Casado', 'posse_de_imovel', 'estado_civil_Separado', 'educacao_Superior completo']\n",
      "Variaveis selecionadas\n",
      " ['sexo_F', 'tipo_renda_Servidor público', 'sexo_M', 'tipo_residencia_Com os pais', 'educacao_Superior incompleto', 'estado_civil_Casado', 'posse_de_imovel', 'estado_civil_Separado', 'educacao_Superior completo']\n"
     ]
    }
   ],
   "source": [
    "res = stepwise_selection(X_train, y_train)\n",
    "print('Variaveis selecionadas\\n', res)"
   ]
  },
  {
   "cell_type": "code",
   "execution_count": 16,
   "metadata": {},
   "outputs": [
    {
     "data": {
      "text/html": [
       "<table class=\"simpletable\">\n",
       "<caption>OLS Regression Results</caption>\n",
       "<tr>\n",
       "  <th>Dep. Variable:</th>          <td>renda</td>      <th>  R-squared:         </th> <td>   0.082</td> \n",
       "</tr>\n",
       "<tr>\n",
       "  <th>Model:</th>                   <td>OLS</td>       <th>  Adj. R-squared:    </th> <td>   0.081</td> \n",
       "</tr>\n",
       "<tr>\n",
       "  <th>Method:</th>             <td>Least Squares</td>  <th>  F-statistic:       </th> <td>   103.8</td> \n",
       "</tr>\n",
       "<tr>\n",
       "  <th>Date:</th>             <td>Sun, 30 Jun 2024</td> <th>  Prob (F-statistic):</th> <td>2.00e-166</td>\n",
       "</tr>\n",
       "<tr>\n",
       "  <th>Time:</th>                 <td>17:26:06</td>     <th>  Log-Likelihood:    </th> <td> -97633.</td> \n",
       "</tr>\n",
       "<tr>\n",
       "  <th>No. Observations:</th>      <td>  9320</td>      <th>  AIC:               </th> <td>1.953e+05</td>\n",
       "</tr>\n",
       "<tr>\n",
       "  <th>Df Residuals:</th>          <td>  9311</td>      <th>  BIC:               </th> <td>1.953e+05</td>\n",
       "</tr>\n",
       "<tr>\n",
       "  <th>Df Model:</th>              <td>     8</td>      <th>                     </th>     <td> </td>    \n",
       "</tr>\n",
       "<tr>\n",
       "  <th>Covariance Type:</th>      <td>nonrobust</td>    <th>                     </th>     <td> </td>    \n",
       "</tr>\n",
       "</table>\n",
       "<table class=\"simpletable\">\n",
       "<tr>\n",
       "                <td></td>                  <th>coef</th>     <th>std err</th>      <th>t</th>      <th>P>|t|</th>  <th>[0.025</th>    <th>0.975]</th>  \n",
       "</tr>\n",
       "<tr>\n",
       "  <th>const</th>                        <td> 3942.3122</td> <td>  163.587</td> <td>   24.099</td> <td> 0.000</td> <td> 3621.645</td> <td> 4262.979</td>\n",
       "</tr>\n",
       "<tr>\n",
       "  <th>sexo_F</th>                       <td> -610.9918</td> <td>  115.156</td> <td>   -5.306</td> <td> 0.000</td> <td> -836.722</td> <td> -385.261</td>\n",
       "</tr>\n",
       "<tr>\n",
       "  <th>tipo_renda_Servidor público</th>  <td> 1429.4367</td> <td>  293.963</td> <td>    4.863</td> <td> 0.000</td> <td>  853.204</td> <td> 2005.669</td>\n",
       "</tr>\n",
       "<tr>\n",
       "  <th>sexo_M</th>                       <td> 4553.3040</td> <td>  133.244</td> <td>   34.173</td> <td> 0.000</td> <td> 4292.117</td> <td> 4814.491</td>\n",
       "</tr>\n",
       "<tr>\n",
       "  <th>tipo_residencia_Com os pais</th>  <td>-1538.6206</td> <td>  394.660</td> <td>   -3.899</td> <td> 0.000</td> <td>-2312.241</td> <td> -765.000</td>\n",
       "</tr>\n",
       "<tr>\n",
       "  <th>educacao_Superior incompleto</th> <td>-1326.9500</td> <td>  439.750</td> <td>   -3.018</td> <td> 0.003</td> <td>-2188.955</td> <td> -464.945</td>\n",
       "</tr>\n",
       "<tr>\n",
       "  <th>estado_civil_Casado</th>          <td>  639.6062</td> <td>  215.884</td> <td>    2.963</td> <td> 0.003</td> <td>  216.427</td> <td> 1062.785</td>\n",
       "</tr>\n",
       "<tr>\n",
       "  <th>posse_de_imovel</th>              <td>  439.5062</td> <td>  189.574</td> <td>    2.318</td> <td> 0.020</td> <td>   67.900</td> <td>  811.113</td>\n",
       "</tr>\n",
       "<tr>\n",
       "  <th>estado_civil_Separado</th>        <td>  934.1043</td> <td>  417.554</td> <td>    2.237</td> <td> 0.025</td> <td>  115.606</td> <td> 1752.602</td>\n",
       "</tr>\n",
       "<tr>\n",
       "  <th>educacao_Superior completo</th>   <td>  386.3498</td> <td>  186.352</td> <td>    2.073</td> <td> 0.038</td> <td>   21.059</td> <td>  751.641</td>\n",
       "</tr>\n",
       "</table>\n",
       "<table class=\"simpletable\">\n",
       "<tr>\n",
       "  <th>Omnibus:</th>       <td>12298.121</td> <th>  Durbin-Watson:     </th>  <td>   1.988</td>  \n",
       "</tr>\n",
       "<tr>\n",
       "  <th>Prob(Omnibus):</th>  <td> 0.000</td>   <th>  Jarque-Bera (JB):  </th> <td>3488810.999</td>\n",
       "</tr>\n",
       "<tr>\n",
       "  <th>Skew:</th>           <td> 7.341</td>   <th>  Prob(JB):          </th>  <td>    0.00</td>  \n",
       "</tr>\n",
       "<tr>\n",
       "  <th>Kurtosis:</th>       <td>96.640</td>   <th>  Cond. No.          </th>  <td>8.94e+15</td>  \n",
       "</tr>\n",
       "</table><br/><br/>Notes:<br/>[1] Standard Errors assume that the covariance matrix of the errors is correctly specified.<br/>[2] The smallest eigenvalue is 3.2e-28. This might indicate that there are<br/>strong multicollinearity problems or that the design matrix is singular."
      ],
      "text/latex": [
       "\\begin{center}\n",
       "\\begin{tabular}{lclc}\n",
       "\\toprule\n",
       "\\textbf{Dep. Variable:}                &      renda       & \\textbf{  R-squared:         } &      0.082   \\\\\n",
       "\\textbf{Model:}                        &       OLS        & \\textbf{  Adj. R-squared:    } &      0.081   \\\\\n",
       "\\textbf{Method:}                       &  Least Squares   & \\textbf{  F-statistic:       } &      103.8   \\\\\n",
       "\\textbf{Date:}                         & Sun, 30 Jun 2024 & \\textbf{  Prob (F-statistic):} &  2.00e-166   \\\\\n",
       "\\textbf{Time:}                         &     17:26:06     & \\textbf{  Log-Likelihood:    } &    -97633.   \\\\\n",
       "\\textbf{No. Observations:}             &        9320      & \\textbf{  AIC:               } &  1.953e+05   \\\\\n",
       "\\textbf{Df Residuals:}                 &        9311      & \\textbf{  BIC:               } &  1.953e+05   \\\\\n",
       "\\textbf{Df Model:}                     &           8      & \\textbf{                     } &              \\\\\n",
       "\\textbf{Covariance Type:}              &    nonrobust     & \\textbf{                     } &              \\\\\n",
       "\\bottomrule\n",
       "\\end{tabular}\n",
       "\\begin{tabular}{lcccccc}\n",
       "                                       & \\textbf{coef} & \\textbf{std err} & \\textbf{t} & \\textbf{P$> |$t$|$} & \\textbf{[0.025} & \\textbf{0.975]}  \\\\\n",
       "\\midrule\n",
       "\\textbf{const}                         &    3942.3122  &      163.587     &    24.099  &         0.000        &     3621.645    &     4262.979     \\\\\n",
       "\\textbf{sexo\\_F}                       &    -610.9918  &      115.156     &    -5.306  &         0.000        &     -836.722    &     -385.261     \\\\\n",
       "\\textbf{tipo\\_renda\\_Servidor público} &    1429.4367  &      293.963     &     4.863  &         0.000        &      853.204    &     2005.669     \\\\\n",
       "\\textbf{sexo\\_M}                       &    4553.3040  &      133.244     &    34.173  &         0.000        &     4292.117    &     4814.491     \\\\\n",
       "\\textbf{tipo\\_residencia\\_Com os pais} &   -1538.6206  &      394.660     &    -3.899  &         0.000        &    -2312.241    &     -765.000     \\\\\n",
       "\\textbf{educacao\\_Superior incompleto} &   -1326.9500  &      439.750     &    -3.018  &         0.003        &    -2188.955    &     -464.945     \\\\\n",
       "\\textbf{estado\\_civil\\_Casado}         &     639.6062  &      215.884     &     2.963  &         0.003        &      216.427    &     1062.785     \\\\\n",
       "\\textbf{posse\\_de\\_imovel}             &     439.5062  &      189.574     &     2.318  &         0.020        &       67.900    &      811.113     \\\\\n",
       "\\textbf{estado\\_civil\\_Separado}       &     934.1043  &      417.554     &     2.237  &         0.025        &      115.606    &     1752.602     \\\\\n",
       "\\textbf{educacao\\_Superior completo}   &     386.3498  &      186.352     &     2.073  &         0.038        &       21.059    &      751.641     \\\\\n",
       "\\bottomrule\n",
       "\\end{tabular}\n",
       "\\begin{tabular}{lclc}\n",
       "\\textbf{Omnibus:}       & 12298.121 & \\textbf{  Durbin-Watson:     } &      1.988   \\\\\n",
       "\\textbf{Prob(Omnibus):} &    0.000  & \\textbf{  Jarque-Bera (JB):  } & 3488810.999  \\\\\n",
       "\\textbf{Skew:}          &    7.341  & \\textbf{  Prob(JB):          } &       0.00   \\\\\n",
       "\\textbf{Kurtosis:}      &   96.640  & \\textbf{  Cond. No.          } &   8.94e+15   \\\\\n",
       "\\bottomrule\n",
       "\\end{tabular}\n",
       "%\\caption{OLS Regression Results}\n",
       "\\end{center}\n",
       "\n",
       "Notes: \\newline\n",
       " [1] Standard Errors assume that the covariance matrix of the errors is correctly specified. \\newline\n",
       " [2] The smallest eigenvalue is 3.2e-28. This might indicate that there are \\newline\n",
       " strong multicollinearity problems or that the design matrix is singular."
      ],
      "text/plain": [
       "<class 'statsmodels.iolib.summary.Summary'>\n",
       "\"\"\"\n",
       "                            OLS Regression Results                            \n",
       "==============================================================================\n",
       "Dep. Variable:                  renda   R-squared:                       0.082\n",
       "Model:                            OLS   Adj. R-squared:                  0.081\n",
       "Method:                 Least Squares   F-statistic:                     103.8\n",
       "Date:                Sun, 30 Jun 2024   Prob (F-statistic):          2.00e-166\n",
       "Time:                        17:26:06   Log-Likelihood:                -97633.\n",
       "No. Observations:                9320   AIC:                         1.953e+05\n",
       "Df Residuals:                    9311   BIC:                         1.953e+05\n",
       "Df Model:                           8                                         \n",
       "Covariance Type:            nonrobust                                         \n",
       "================================================================================================\n",
       "                                   coef    std err          t      P>|t|      [0.025      0.975]\n",
       "------------------------------------------------------------------------------------------------\n",
       "const                         3942.3122    163.587     24.099      0.000    3621.645    4262.979\n",
       "sexo_F                        -610.9918    115.156     -5.306      0.000    -836.722    -385.261\n",
       "tipo_renda_Servidor público   1429.4367    293.963      4.863      0.000     853.204    2005.669\n",
       "sexo_M                        4553.3040    133.244     34.173      0.000    4292.117    4814.491\n",
       "tipo_residencia_Com os pais  -1538.6206    394.660     -3.899      0.000   -2312.241    -765.000\n",
       "educacao_Superior incompleto -1326.9500    439.750     -3.018      0.003   -2188.955    -464.945\n",
       "estado_civil_Casado            639.6062    215.884      2.963      0.003     216.427    1062.785\n",
       "posse_de_imovel                439.5062    189.574      2.318      0.020      67.900     811.113\n",
       "estado_civil_Separado          934.1043    417.554      2.237      0.025     115.606    1752.602\n",
       "educacao_Superior completo     386.3498    186.352      2.073      0.038      21.059     751.641\n",
       "==============================================================================\n",
       "Omnibus:                    12298.121   Durbin-Watson:                   1.988\n",
       "Prob(Omnibus):                  0.000   Jarque-Bera (JB):          3488810.999\n",
       "Skew:                           7.341   Prob(JB):                         0.00\n",
       "Kurtosis:                      96.640   Cond. No.                     8.94e+15\n",
       "==============================================================================\n",
       "\n",
       "Notes:\n",
       "[1] Standard Errors assume that the covariance matrix of the errors is correctly specified.\n",
       "[2] The smallest eigenvalue is 3.2e-28. This might indicate that there are\n",
       "strong multicollinearity problems or that the design matrix is singular.\n",
       "\"\"\""
      ]
     },
     "execution_count": 16,
     "metadata": {},
     "output_type": "execute_result"
    }
   ],
   "source": [
    "reg_sw = sm.OLS(y_train, sm.add_constant(X_train[res])).fit()\n",
    "reg_sw.summary()"
   ]
  },
  {
   "cell_type": "code",
   "execution_count": 17,
   "metadata": {},
   "outputs": [
    {
     "name": "stdout",
     "output_type": "stream",
     "text": [
      "R2= 0.0635773608973087\n"
     ]
    }
   ],
   "source": [
    "y_pred = reg_sw.predict(sm.add_constant(X_test[res]))\n",
    "R2 = r2_score(y_test, y_pred)\n",
    "print('R2=', R2)"
   ]
  },
  {
   "cell_type": "code",
   "execution_count": 18,
   "metadata": {},
   "outputs": [],
   "source": [
    "#######5\n",
    "# analisando o R2 eu manteria a ridge ou lasso, mais facil implementacao"
   ]
  },
  {
   "cell_type": "code",
   "execution_count": 19,
   "metadata": {},
   "outputs": [],
   "source": [
    "#######6\n",
    "# fazendo a regressao lasso no log da renda\n",
    "\n",
    "y_train_log = np.log(y_train)\n",
    "y_test_log = np.log(y_test)"
   ]
  },
  {
   "cell_type": "code",
   "execution_count": 20,
   "metadata": {},
   "outputs": [
    {
     "name": "stdout",
     "output_type": "stream",
     "text": [
      "melhor alpha= 0.1\n",
      "R2= 0.13829909138322272\n"
     ]
    }
   ],
   "source": [
    "lasso_cv = LassoCV(alphas=alpha_v, cv=5)\n",
    "lasso_cv.fit(X_train, y_train_log)\n",
    "\n",
    "b_alpha = ridge_cv.alpha_\n",
    "print('melhor alpha=', b_alpha)\n",
    "\n",
    "y_pred = lasso_cv.predict(X_test)\n",
    "R2 = r2_score(y_test_log, y_pred)\n",
    "print('R2=', R2)"
   ]
  },
  {
   "cell_type": "code",
   "execution_count": 21,
   "metadata": {},
   "outputs": [
    {
     "name": "stdout",
     "output_type": "stream",
     "text": [
      "melhor alpha= 0.1\n",
      "R2= 0.1382989815818182\n"
     ]
    }
   ],
   "source": [
    "# fazendo a regressao ridge no log da renda\n",
    "ridge_cv = RidgeCV(alphas=alpha_v, store_cv_values=True)\n",
    "ridge_cv.fit(X_train, y_train_log)\n",
    "\n",
    "b_alpha = ridge_cv.alpha_\n",
    "print('melhor alpha=', b_alpha)\n",
    "\n",
    "y_pred = ridge_cv.predict(X_test)\n",
    "R2 = r2_score(y_test_log, y_pred)\n",
    "print('R2=', R2)\n"
   ]
  },
  {
   "cell_type": "code",
   "execution_count": 22,
   "metadata": {},
   "outputs": [],
   "source": [
    "# fazendo a regressao lasso transformando a renda em polinomio\n",
    "y_train_pol = y_train + np.power(y_train, 2)\n",
    "y_test_pol = y_test + np.power(y_test, 2)"
   ]
  },
  {
   "cell_type": "code",
   "execution_count": 23,
   "metadata": {},
   "outputs": [
    {
     "name": "stdout",
     "output_type": "stream",
     "text": [
      "melhor alpha= 0.1\n",
      "R2= 0.004755974993183698\n"
     ]
    }
   ],
   "source": [
    "lasso_cv = LassoCV(alphas=alpha_v, cv=5)\n",
    "lasso_cv.fit(X_train, y_train_pol)\n",
    "\n",
    "b_alpha = ridge_cv.alpha_\n",
    "print('melhor alpha=', b_alpha)\n",
    "\n",
    "y_pred = lasso_cv.predict(X_test)\n",
    "R2 = r2_score(y_test_pol, y_pred)\n",
    "print('R2=', R2)"
   ]
  },
  {
   "cell_type": "code",
   "execution_count": 24,
   "metadata": {},
   "outputs": [],
   "source": [
    "# com as transformacoes na variavel y nao consegui melhor o modelo"
   ]
  },
  {
   "cell_type": "code",
   "execution_count": 25,
   "metadata": {},
   "outputs": [
    {
     "data": {
      "text/html": [
       "<style>#sk-container-id-1 {color: black;background-color: white;}#sk-container-id-1 pre{padding: 0;}#sk-container-id-1 div.sk-toggleable {background-color: white;}#sk-container-id-1 label.sk-toggleable__label {cursor: pointer;display: block;width: 100%;margin-bottom: 0;padding: 0.3em;box-sizing: border-box;text-align: center;}#sk-container-id-1 label.sk-toggleable__label-arrow:before {content: \"▸\";float: left;margin-right: 0.25em;color: #696969;}#sk-container-id-1 label.sk-toggleable__label-arrow:hover:before {color: black;}#sk-container-id-1 div.sk-estimator:hover label.sk-toggleable__label-arrow:before {color: black;}#sk-container-id-1 div.sk-toggleable__content {max-height: 0;max-width: 0;overflow: hidden;text-align: left;background-color: #f0f8ff;}#sk-container-id-1 div.sk-toggleable__content pre {margin: 0.2em;color: black;border-radius: 0.25em;background-color: #f0f8ff;}#sk-container-id-1 input.sk-toggleable__control:checked~div.sk-toggleable__content {max-height: 200px;max-width: 100%;overflow: auto;}#sk-container-id-1 input.sk-toggleable__control:checked~label.sk-toggleable__label-arrow:before {content: \"▾\";}#sk-container-id-1 div.sk-estimator input.sk-toggleable__control:checked~label.sk-toggleable__label {background-color: #d4ebff;}#sk-container-id-1 div.sk-label input.sk-toggleable__control:checked~label.sk-toggleable__label {background-color: #d4ebff;}#sk-container-id-1 input.sk-hidden--visually {border: 0;clip: rect(1px 1px 1px 1px);clip: rect(1px, 1px, 1px, 1px);height: 1px;margin: -1px;overflow: hidden;padding: 0;position: absolute;width: 1px;}#sk-container-id-1 div.sk-estimator {font-family: monospace;background-color: #f0f8ff;border: 1px dotted black;border-radius: 0.25em;box-sizing: border-box;margin-bottom: 0.5em;}#sk-container-id-1 div.sk-estimator:hover {background-color: #d4ebff;}#sk-container-id-1 div.sk-parallel-item::after {content: \"\";width: 100%;border-bottom: 1px solid gray;flex-grow: 1;}#sk-container-id-1 div.sk-label:hover label.sk-toggleable__label {background-color: #d4ebff;}#sk-container-id-1 div.sk-serial::before {content: \"\";position: absolute;border-left: 1px solid gray;box-sizing: border-box;top: 0;bottom: 0;left: 50%;z-index: 0;}#sk-container-id-1 div.sk-serial {display: flex;flex-direction: column;align-items: center;background-color: white;padding-right: 0.2em;padding-left: 0.2em;position: relative;}#sk-container-id-1 div.sk-item {position: relative;z-index: 1;}#sk-container-id-1 div.sk-parallel {display: flex;align-items: stretch;justify-content: center;background-color: white;position: relative;}#sk-container-id-1 div.sk-item::before, #sk-container-id-1 div.sk-parallel-item::before {content: \"\";position: absolute;border-left: 1px solid gray;box-sizing: border-box;top: 0;bottom: 0;left: 50%;z-index: -1;}#sk-container-id-1 div.sk-parallel-item {display: flex;flex-direction: column;z-index: 1;position: relative;background-color: white;}#sk-container-id-1 div.sk-parallel-item:first-child::after {align-self: flex-end;width: 50%;}#sk-container-id-1 div.sk-parallel-item:last-child::after {align-self: flex-start;width: 50%;}#sk-container-id-1 div.sk-parallel-item:only-child::after {width: 0;}#sk-container-id-1 div.sk-dashed-wrapped {border: 1px dashed gray;margin: 0 0.4em 0.5em 0.4em;box-sizing: border-box;padding-bottom: 0.4em;background-color: white;}#sk-container-id-1 div.sk-label label {font-family: monospace;font-weight: bold;display: inline-block;line-height: 1.2em;}#sk-container-id-1 div.sk-label-container {text-align: center;}#sk-container-id-1 div.sk-container {/* jupyter's `normalize.less` sets `[hidden] { display: none; }` but bootstrap.min.css set `[hidden] { display: none !important; }` so we also need the `!important` here to be able to override the default hidden behavior on the sphinx rendered scikit-learn.org. See: https://github.com/scikit-learn/scikit-learn/issues/21755 */display: inline-block !important;position: relative;}#sk-container-id-1 div.sk-text-repr-fallback {display: none;}</style><div id=\"sk-container-id-1\" class=\"sk-top-container\"><div class=\"sk-text-repr-fallback\"><pre>DecisionTreeRegressor()</pre><b>In a Jupyter environment, please rerun this cell to show the HTML representation or trust the notebook. <br />On GitHub, the HTML representation is unable to render, please try loading this page with nbviewer.org.</b></div><div class=\"sk-container\" hidden><div class=\"sk-item\"><div class=\"sk-estimator sk-toggleable\"><input class=\"sk-toggleable__control sk-hidden--visually\" id=\"sk-estimator-id-1\" type=\"checkbox\" checked><label for=\"sk-estimator-id-1\" class=\"sk-toggleable__label sk-toggleable__label-arrow\">DecisionTreeRegressor</label><div class=\"sk-toggleable__content\"><pre>DecisionTreeRegressor()</pre></div></div></div></div></div>"
      ],
      "text/plain": [
       "DecisionTreeRegressor()"
      ]
     },
     "execution_count": 25,
     "metadata": {},
     "output_type": "execute_result"
    }
   ],
   "source": [
    "#######7\n",
    "from sklearn.tree import DecisionTreeRegressor\n",
    "dtr = DecisionTreeRegressor()\n",
    "dtr.fit(X_train, y_train)"
   ]
  },
  {
   "cell_type": "code",
   "execution_count": 26,
   "metadata": {},
   "outputs": [],
   "source": [
    "y_pred = dtr.predict(X_test)"
   ]
  },
  {
   "cell_type": "code",
   "execution_count": 27,
   "metadata": {},
   "outputs": [
    {
     "name": "stdout",
     "output_type": "stream",
     "text": [
      "R2= 0.07973023878638252\n"
     ]
    }
   ],
   "source": [
    "R2 = r2_score(y_test, y_pred)\n",
    "print('R2=', R2)"
   ]
  }
 ],
 "metadata": {
  "kernelspec": {
   "display_name": "Python 3 (ipykernel)",
   "language": "python",
   "name": "python3"
  },
  "language_info": {
   "codemirror_mode": {
    "name": "ipython",
    "version": 3
   },
   "file_extension": ".py",
   "mimetype": "text/x-python",
   "name": "python",
   "nbconvert_exporter": "python",
   "pygments_lexer": "ipython3",
   "version": "3.11.7"
  }
 },
 "nbformat": 4,
 "nbformat_minor": 4
}
